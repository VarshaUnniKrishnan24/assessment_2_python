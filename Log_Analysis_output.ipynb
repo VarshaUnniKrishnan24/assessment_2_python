{
  "nbformat": 4,
  "nbformat_minor": 0,
  "metadata": {
    "colab": {
      "provenance": []
    },
    "kernelspec": {
      "name": "python3",
      "display_name": "Python 3"
    },
    "language_info": {
      "name": "python"
    }
  },
  "cells": [
    {
      "cell_type": "code",
      "source": [
        "import pandas as pd"
      ],
      "metadata": {
        "id": "oPD8Nel9IHYZ"
      },
      "execution_count": 8,
      "outputs": []
    },
    {
      "cell_type": "code",
      "source": [
        "# function to Parse each line into components Return tuple\n",
        "def parse_log_line(line):\n",
        "    parts = line.split(',')\n",
        "    if len(parts) == 4:\n",
        "        timestamp, ip, status_code, endpoint = parts\n",
        "        return timestamp, ip, status_code, endpoint\n",
        "    else:\n",
        "        return None\n",
        "\n"
      ],
      "metadata": {
        "id": "TmIxOd4MIPz-"
      },
      "execution_count": 9,
      "outputs": []
    },
    {
      "cell_type": "code",
      "source": [
        "# function to Count unique IP addresses and return total count\n",
        "def get_unique_visitors(logs):\n",
        "    unique_ips = set()\n",
        "    for log_entry in logs:\n",
        "        if log_entry:\n",
        "            unique_ips.add(log_entry[1])\n",
        "    return len(unique_ips)"
      ],
      "metadata": {
        "id": "2Z_zDDnCIXc6"
      },
      "execution_count": 10,
      "outputs": []
    },
    {
      "cell_type": "code",
      "source": [
        "# function to Find most accessed endpoints and return list of tuples (endpoint, count)\n",
        "def get_popular_endpoints(logs, top_n=5):\n",
        "    endpoint_counts = {}\n",
        "    for log_entry in logs:\n",
        "        if log_entry:\n",
        "            endpoint = log_entry[3]\n",
        "            endpoint_counts[endpoint] = endpoint_counts.get(endpoint, 0) + 1\n",
        "    sorted_endpoints = sorted(endpoint_counts.items(), key=lambda item: item[1], reverse=True)\n",
        "    return sorted_endpoints[:top_n]"
      ],
      "metadata": {
        "id": "8H8HTWvqIkS7"
      },
      "execution_count": 11,
      "outputs": []
    },
    {
      "cell_type": "code",
      "source": [
        "# function to Calculate percentage of 4xx/5xx status codes and return float percentage\n",
        "def get_error_rate(logs):\n",
        "    error_count = 0\n",
        "    total_count = 0\n",
        "    for log_entry in logs:\n",
        "        if log_entry:\n",
        "            status_code = int(log_entry[2])\n",
        "            total_count += 1\n",
        "            if 400 <= status_code < 600:\n",
        "                error_count += 1\n",
        "    if total_count == 0:\n",
        "        return 0.0\n",
        "    return (error_count / total_count) * 100"
      ],
      "metadata": {
        "id": "lYENLuJ7ItVB"
      },
      "execution_count": 12,
      "outputs": []
    },
    {
      "cell_type": "code",
      "source": [
        "# function to Print formatted summary\n",
        "def generate_report(filename):\n",
        "    logs = []\n",
        "    print(\"Parsed data:timestamp, IP address, status_code\")\n",
        "    with open(filename, 'r') as file:\n",
        "        for line in file:\n",
        "            parsed_line = parse_log_line(line.strip())\n",
        "            if parsed_line:\n",
        "                logs.append(parsed_line)\n",
        "                print(parsed_line)\n",
        "\n",
        "        unique_visitors = get_unique_visitors(logs)\n",
        "        popular_endpoints = get_popular_endpoints(logs)\n",
        "        error_rate = get_error_rate(logs)\n",
        "\n",
        "        print(\"\\n\\n Log File Report:\")\n",
        "        print(f\"\\n\\n Unique Visitors: {unique_visitors}\")\n",
        "        print(\"\\n\\n Popular Endpoints:\")\n",
        "        for endpoint, count in popular_endpoints:\n",
        "            print(f\"- {endpoint}: {count}\")\n",
        "        print(f\"\\n\\n Error Rate: {error_rate:.2f}%\")"
      ],
      "metadata": {
        "id": "rC6195aGI06k"
      },
      "execution_count": 13,
      "outputs": []
    },
    {
      "cell_type": "code",
      "source": [
        "generate_report(\"sample-log.txt\")"
      ],
      "metadata": {
        "colab": {
          "base_uri": "https://localhost:8080/"
        },
        "id": "0wb7ALwmI2js",
        "outputId": "e02f96bd-c445-416c-d01c-d651c5fc56af"
      },
      "execution_count": 14,
      "outputs": [
        {
          "output_type": "stream",
          "name": "stdout",
          "text": [
            "Parsed data:timestamp, IP address, status_code\n",
            "('2024-03-18 10:15:23', '192.168.1.101', '200', '/home')\n",
            "('2024-03-18 10:15:25', '192.168.1.102', '404', '/profile/user123')\n",
            "('2024-03-18 10:15:30', '192.168.1.101', '200', '/about')\n",
            "('2024-03-18 10:15:45', '192.168.1.103', '200', '/products')\n",
            "('2024-03-18 10:16:01', '192.168.1.104', '500', '/api/data')\n",
            "('2024-03-18 10:16:15', '192.168.1.102', '200', '/home')\n",
            "('2024-03-18 10:16:30', '192.168.1.105', '404', '/blog/post123')\n",
            "('2024-03-18 10:16:45', '192.168.1.101', '200', '/products')\n",
            "('2024-03-18 10:17:00', '192.168.1.106', '200', '/home')\n",
            "('2024-03-18 10:17:15', '192.168.1.107', '403', '/admin')\n",
            "('2024-03-18 10:17:30', '192.168.1.102', '200', '/about')\n",
            "('2024-03-18 10:17:45', '192.168.1.108', '200', '/contact')\n",
            "('2024-03-18 10:18:00', '192.168.1.109', '500', '/api/users')\n",
            "('2024-03-18 10:18:15', '192.168.1.101', '200', '/home')\n",
            "('2024-03-18 10:18:30', '192.168.1.110', '200', '/products')\n",
            "('2024-03-18 10:18:45', '192.168.1.102', '404', '/images/logo.png')\n",
            "('2024-03-18 10:19:00', '192.168.1.111', '200', '/home')\n",
            "('2024-03-18 10:19:15', '192.168.1.112', '200', '/about')\n",
            "('2024-03-18 10:19:30', '192.168.1.101', '503', '/api/orders')\n",
            "('2024-03-18 10:19:45', '192.168.1.113', '200', '/products')\n",
            "('2024-03-18 10:20:00', '192.168.1.102', '200', '/contact')\n",
            "\n",
            "\n",
            " Log File Report:\n",
            "\n",
            "\n",
            " Unique Visitors: 13\n",
            "\n",
            "\n",
            " Popular Endpoints:\n",
            "- /home: 5\n",
            "- /products: 4\n",
            "- /about: 3\n",
            "- /contact: 2\n",
            "- /profile/user123: 1\n",
            "\n",
            "\n",
            " Error Rate: 33.33%\n"
          ]
        }
      ]
    }
  ]
}